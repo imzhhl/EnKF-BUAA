{
 "cells": [
  {
   "cell_type": "code",
   "execution_count": 2,
   "id": "a30fca9a",
   "metadata": {},
   "outputs": [
    {
     "name": "stdout",
     "output_type": "stream",
     "text": [
      "手动计算 Pf:\n",
      " [[ 1.23060232 -0.10257449 -0.10770737  0.17950613]\n",
      " [-0.10257449  1.01798589  0.15107201  0.06608343]\n",
      " [-0.10770737  0.15107201  1.26711545  0.07968793]\n",
      " [ 0.17950613  0.06608343  0.07968793  1.2161342 ]]\n",
      "\n",
      "np.cov 计算 Pf:\n",
      " [[ 1.23060232 -0.10257449 -0.10770737  0.17950613]\n",
      " [-0.10257449  1.01798589  0.15107201  0.06608343]\n",
      " [-0.10770737  0.15107201  1.26711545  0.07968793]\n",
      " [ 0.17950613  0.06608343  0.07968793  1.2161342 ]]\n",
      "\n",
      "最大绝对误差: 2.220446049250313e-16\n",
      "\n",
      "两种方法结果一致（数值上几乎完全相同）\n"
     ]
    }
   ],
   "source": [
    "import numpy as np\n",
    "\n",
    "# 配置参数\n",
    "state_dim = 4\n",
    "k = 100  # 集合大小\n",
    "\n",
    "# 生成模拟样本矩阵 X_f，shape = (state_dim, k)\n",
    "X_f = np.random.randn(state_dim, k)\n",
    "\n",
    "# ===== 方法 1：手动实现公式（2-10）~（2-14） =====\n",
    "# Step 1: 求均值\n",
    "x_f_mean = np.mean(X_f, axis=1, keepdims=True)  # shape: (state_dim, 1)\n",
    "\n",
    "# Step 2: 求偏差矩阵 X_f'\n",
    "X_f_prime = (X_f - x_f_mean) / np.sqrt(k - 1)\n",
    "\n",
    "# Step 3: 手动计算协方差矩阵 Pf\n",
    "P_manual = X_f_prime @ X_f_prime.T\n",
    "\n",
    "# ===== 方法 2：使用 np.cov =====\n",
    "P_numpy = np.cov(X_f, bias=False)  # 默认就是除以 (k-1)\n",
    "\n",
    "# ===== 对比差异 =====\n",
    "difference = np.abs(P_manual - P_numpy)\n",
    "max_diff = np.max(difference)\n",
    "\n",
    "# 输出结果\n",
    "print(\"手动计算 Pf:\\n\", P_manual)\n",
    "print(\"\\nnp.cov 计算 Pf:\\n\", P_numpy)\n",
    "print(\"\\n最大绝对误差:\", max_diff)\n",
    "\n",
    "# 判断是否几乎相等（容忍浮点误差）\n",
    "if np.allclose(P_manual, P_numpy, atol=1e-10):\n",
    "    print(\"\\n两种方法结果一致（数值上几乎完全相同）\")\n",
    "else:\n",
    "    print(\"\\n两种方法结果不一致，请检查实现\")\n"
   ]
  },
  {
   "cell_type": "code",
   "execution_count": null,
   "id": "bab89ae6",
   "metadata": {},
   "outputs": [],
   "source": [
    "iteration: 150 mean: [ 0.5   0.48 -1.26 -0.13 -2.42  3.67 -0.49 11.86] points_result: [-0. -0. -0.  0.  0.  0.  0.  0. -0.  0.]"
   ]
  },
  {
   "cell_type": "code",
   "execution_count": null,
   "id": "a7ca2ac2",
   "metadata": {},
   "outputs": [],
   "source": [
    "noise_t0 = 0.01\n",
    "noise_t1 = 0.01\n",
    "noise_t2 = 0.01\n",
    "noise_t3 = 0.01\n",
    "noise_t4 = 0.01\n",
    "noise_t5 = 0.01\n",
    "noise_t6 = 0.01\n",
    "noise_t7 = 0.01\n",
    "noise_t8 = 0.01\n",
    "noise_t9 = 0.01\n",
    "\n",
    "delta_t0 = noise_t0**2\n",
    "delta_t1 = noise_t1**2\n",
    "delta_t2 = noise_t2**2\n",
    "delta_t3 = noise_t3**2\n",
    "delta_t4 = noise_t4**2\n",
    "delta_t5 = noise_t5**2\n",
    "delta_t6 = noise_t6**2\n",
    "delta_t7 = noise_t7**2\n",
    "delta_t8 = noise_t8**2\n",
    "delta_t9 = noise_t9**2\n",
    "\n",
    "phi = np.zeros((m, N))\n",
    "# 标准差为 delta_v\n",
    "phi[0] = np.random.normal(loc=0.0, scale=delta_t0, size=N)\n",
    "phi[1] = np.random.normal(loc=0.0, scale=delta_t1, size=N)\n",
    "phi[2] = np.random.normal(loc=0.0, scale=delta_t2, size=N)\n",
    "phi[3] = np.random.normal(loc=0.0, scale=delta_t3, size=N)\n",
    "phi[4] = np.random.normal(loc=0.0, scale=delta_t4, size=N)\n",
    "phi[5] = np.random.normal(loc=0.0, scale=delta_t5, size=N)\n",
    "phi[6] = np.random.normal(loc=0.0, scale=delta_t6, size=N)\n",
    "phi[7] = np.random.normal(loc=0.0, scale=delta_t7, size=N)\n",
    "phi[8] = np.random.normal(loc=0.0, scale=delta_t8, size=N)\n",
    "phi[9] = np.random.normal(loc=0.0, scale=delta_t9, size=N)\n"
   ]
  }
 ],
 "metadata": {
  "kernelspec": {
   "display_name": "ds",
   "language": "python",
   "name": "python3"
  },
  "language_info": {
   "codemirror_mode": {
    "name": "ipython",
    "version": 3
   },
   "file_extension": ".py",
   "mimetype": "text/x-python",
   "name": "python",
   "nbconvert_exporter": "python",
   "pygments_lexer": "ipython3",
   "version": "3.13.2"
  }
 },
 "nbformat": 4,
 "nbformat_minor": 5
}
